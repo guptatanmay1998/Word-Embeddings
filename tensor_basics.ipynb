{
  "nbformat": 4,
  "nbformat_minor": 0,
  "metadata": {
    "colab": {
      "name": "Untitled0.ipynb",
      "provenance": [],
      "authorship_tag": "ABX9TyOJAplUbXOS694JLKQyUOsN",
      "include_colab_link": true
    },
    "kernelspec": {
      "name": "python3",
      "display_name": "Python 3"
    },
    "language_info": {
      "name": "python"
    }
  },
  "cells": [
    {
      "cell_type": "markdown",
      "metadata": {
        "id": "view-in-github",
        "colab_type": "text"
      },
      "source": [
        "<a href=\"https://colab.research.google.com/github/guptatanmay1998/Word-Embeddings/blob/main/tensor_basics.ipynb\" target=\"_parent\"><img src=\"https://colab.research.google.com/assets/colab-badge.svg\" alt=\"Open In Colab\"/></a>"
      ]
    },
    {
      "cell_type": "code",
      "metadata": {
        "id": "sidFI75BKrZF"
      },
      "source": [
        "import tensorflow as tf\n"
      ],
      "execution_count": 1,
      "outputs": []
    },
    {
      "cell_type": "code",
      "metadata": {
        "colab": {
          "base_uri": "https://localhost:8080/"
        },
        "id": "Dequu3x5iayv",
        "outputId": "6ea0eda7-c8fc-4581-debd-f7e20bac2864"
      },
      "source": [
        "print(tf.__version__)"
      ],
      "execution_count": 3,
      "outputs": [
        {
          "output_type": "stream",
          "text": [
            "2.5.0\n"
          ],
          "name": "stdout"
        }
      ]
    },
    {
      "cell_type": "code",
      "metadata": {
        "colab": {
          "base_uri": "https://localhost:8080/"
        },
        "id": "rVEe6UqViwD2",
        "outputId": "ddf32d28-f63c-409f-b97a-927cf019170f"
      },
      "source": [
        "x=tf.constant(4)\n",
        "print(x)"
      ],
      "execution_count": 5,
      "outputs": [
        {
          "output_type": "stream",
          "text": [
            "tf.Tensor(4, shape=(), dtype=int32)\n"
          ],
          "name": "stdout"
        }
      ]
    },
    {
      "cell_type": "code",
      "metadata": {
        "colab": {
          "base_uri": "https://localhost:8080/"
        },
        "id": "MCXtAWiIkF2m",
        "outputId": "caea69a5-41ed-41d1-bf4d-12eb74f82c0e"
      },
      "source": [
        "x=tf.constant([[1,2,3],[4,5,6]])\n",
        "print(x)"
      ],
      "execution_count": 7,
      "outputs": [
        {
          "output_type": "stream",
          "text": [
            "tf.Tensor(\n",
            "[[1 2 3]\n",
            " [4 5 6]], shape=(2, 3), dtype=int32)\n"
          ],
          "name": "stdout"
        }
      ]
    },
    {
      "cell_type": "code",
      "metadata": {
        "colab": {
          "base_uri": "https://localhost:8080/"
        },
        "id": "Ys-hXG8QkoA3",
        "outputId": "92c8509c-1589-406c-d788-10a71da8e2af"
      },
      "source": [
        "x=tf.ones((4,4))\n",
        "print(x)"
      ],
      "execution_count": 8,
      "outputs": [
        {
          "output_type": "stream",
          "text": [
            "tf.Tensor(\n",
            "[[1. 1. 1. 1.]\n",
            " [1. 1. 1. 1.]\n",
            " [1. 1. 1. 1.]\n",
            " [1. 1. 1. 1.]], shape=(4, 4), dtype=float32)\n"
          ],
          "name": "stdout"
        }
      ]
    },
    {
      "cell_type": "code",
      "metadata": {
        "colab": {
          "base_uri": "https://localhost:8080/"
        },
        "id": "2mQIBleNk8mV",
        "outputId": "64d4c8c3-35ca-488b-bd62-5e5b9abd2a8d"
      },
      "source": [
        "x=tf.zeros((4,4))\n",
        "print(x)"
      ],
      "execution_count": 9,
      "outputs": [
        {
          "output_type": "stream",
          "text": [
            "tf.Tensor(\n",
            "[[0. 0. 0. 0.]\n",
            " [0. 0. 0. 0.]\n",
            " [0. 0. 0. 0.]\n",
            " [0. 0. 0. 0.]], shape=(4, 4), dtype=float32)\n"
          ],
          "name": "stdout"
        }
      ]
    },
    {
      "cell_type": "code",
      "metadata": {
        "colab": {
          "base_uri": "https://localhost:8080/"
        },
        "id": "qQhnm98MlAzY",
        "outputId": "96f55327-3a6a-43b0-d632-af2f844ae2f7"
      },
      "source": [
        "x=tf.eye(4)\n",
        "print(x)"
      ],
      "execution_count": 11,
      "outputs": [
        {
          "output_type": "stream",
          "text": [
            "tf.Tensor(\n",
            "[[1. 0. 0. 0.]\n",
            " [0. 1. 0. 0.]\n",
            " [0. 0. 1. 0.]\n",
            " [0. 0. 0. 1.]], shape=(4, 4), dtype=float32)\n"
          ],
          "name": "stdout"
        }
      ]
    },
    {
      "cell_type": "code",
      "metadata": {
        "colab": {
          "base_uri": "https://localhost:8080/"
        },
        "id": "HdpNwpCNlCpb",
        "outputId": "93e37d90-837f-4a49-8948-9ea4bbcd338b"
      },
      "source": [
        "x=tf.random.normal((3,3))\n",
        "print(x)"
      ],
      "execution_count": 12,
      "outputs": [
        {
          "output_type": "stream",
          "text": [
            "tf.Tensor(\n",
            "[[-0.7654272  -0.7372763  -2.0232673 ]\n",
            " [ 0.6131971   0.17988512  0.24897143]\n",
            " [-1.2131255   0.10579549 -0.81710607]], shape=(3, 3), dtype=float32)\n"
          ],
          "name": "stdout"
        }
      ]
    },
    {
      "cell_type": "code",
      "metadata": {
        "colab": {
          "base_uri": "https://localhost:8080/"
        },
        "id": "SRBo1Vpsl4yX",
        "outputId": "61d97bd9-17a2-4f23-b5e1-aa1d0e25d382"
      },
      "source": [
        "x=tf.random.uniform((3,3))\n",
        "print(x)"
      ],
      "execution_count": 14,
      "outputs": [
        {
          "output_type": "stream",
          "text": [
            "tf.Tensor(\n",
            "[[0.94142103 0.5653151  0.5995687 ]\n",
            " [0.9429616  0.64402235 0.77851987]\n",
            " [0.43538177 0.40842164 0.9375142 ]], shape=(3, 3), dtype=float32)\n"
          ],
          "name": "stdout"
        }
      ]
    },
    {
      "cell_type": "code",
      "metadata": {
        "colab": {
          "base_uri": "https://localhost:8080/"
        },
        "id": "uEOAiVIrl_aH",
        "outputId": "2aa7e122-c18c-41e2-b279-ed688dfb45f2"
      },
      "source": [
        "x=tf.range(start=1,limit=10,delta=2)\n",
        "print(x)"
      ],
      "execution_count": 16,
      "outputs": [
        {
          "output_type": "stream",
          "text": [
            "tf.Tensor([1 3 5 7 9], shape=(5,), dtype=int32)\n"
          ],
          "name": "stdout"
        }
      ]
    },
    {
      "cell_type": "code",
      "metadata": {
        "colab": {
          "base_uri": "https://localhost:8080/"
        },
        "id": "ZWWPC4n3mjVf",
        "outputId": "33b092b5-1f86-43eb-c3cc-b939d39c5491"
      },
      "source": [
        "x=tf.constant([[1,2,3]])\n",
        "y=tf.constant([[7],[8],[9]])\n",
        "z=tf.add(x,y)\n",
        "z=x*y\n",
        "z=x/y\n",
        "z=x-y\n",
        "z=x**y\n",
        "z=tf.matmul(x,y)\n",
        "z=tf.tensordot(x,y,axes=1)\n",
        "z=x@y\n",
        "print(z)"
      ],
      "execution_count": 31,
      "outputs": [
        {
          "output_type": "stream",
          "text": [
            "tf.Tensor([[50]], shape=(1, 1), dtype=int32)\n"
          ],
          "name": "stdout"
        }
      ]
    },
    {
      "cell_type": "code",
      "metadata": {
        "colab": {
          "base_uri": "https://localhost:8080/"
        },
        "id": "dqOnKw1Xm8Ye",
        "outputId": "f5bdb576-7968-4232-a3a1-d38b3e289d0c"
      },
      "source": [
        "x=tf.constant([0,1,2,3,4,5,6,7,8])\n",
        "print(x[:])\n",
        "print(x[1:])\n",
        "print(x[1:8:2])\n",
        "print(x[::2])\n",
        "print(x[::-1])\n",
        "indices=tf.constant([0,2])\n",
        "x_ind=tf.gather(x,indices)\n",
        "print(x_ind)\n",
        "x=tf.constant([[1,2],[3,4],[5,6]])\n",
        "print(x[0:2,:])\n",
        "x=tf.range(9)\n",
        "x=tf.reshape(x,(3,3))\n",
        "x=tf.transpose(x)\n",
        "print(x)\n"
      ],
      "execution_count": 47,
      "outputs": [
        {
          "output_type": "stream",
          "text": [
            "tf.Tensor([0 1 2 3 4 5 6 7 8], shape=(9,), dtype=int32)\n",
            "tf.Tensor([1 2 3 4 5 6 7 8], shape=(8,), dtype=int32)\n",
            "tf.Tensor([1 3 5 7], shape=(4,), dtype=int32)\n",
            "tf.Tensor([0 2 4 6 8], shape=(5,), dtype=int32)\n",
            "tf.Tensor([8 7 6 5 4 3 2 1 0], shape=(9,), dtype=int32)\n",
            "tf.Tensor([0 2], shape=(2,), dtype=int32)\n",
            "tf.Tensor(\n",
            "[[1 2]\n",
            " [3 4]], shape=(2, 2), dtype=int32)\n",
            "tf.Tensor(\n",
            "[[0 3 6]\n",
            " [1 4 7]\n",
            " [2 5 8]], shape=(3, 3), dtype=int32)\n"
          ],
          "name": "stdout"
        }
      ]
    },
    {
      "cell_type": "code",
      "metadata": {
        "id": "e8nF4UoZqFko"
      },
      "source": [
        ""
      ],
      "execution_count": null,
      "outputs": []
    }
  ]
}